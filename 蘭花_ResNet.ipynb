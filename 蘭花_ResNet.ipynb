{
  "cells": [
    {
      "cell_type": "markdown",
      "metadata": {
        "id": "view-in-github",
        "colab_type": "text"
      },
      "source": [
        "<a href=\"https://colab.research.google.com/github/bella0826/flowers/blob/main/%E8%98%AD%E8%8A%B1_ResNet.ipynb\" target=\"_parent\"><img src=\"https://colab.research.google.com/assets/colab-badge.svg\" alt=\"Open In Colab\"/></a>"
      ]
    },
    {
      "cell_type": "code",
      "execution_count": null,
      "metadata": {
        "colab": {
          "base_uri": "https://localhost:8080/"
        },
        "id": "9hbfpGua4A8S",
        "outputId": "fb84867f-db31-4341-c905-a9815e01b062"
      },
      "outputs": [
        {
          "output_type": "stream",
          "name": "stdout",
          "text": [
            "Drive already mounted at /content/drive; to attempt to forcibly remount, call drive.mount(\"/content/drive\", force_remount=True).\n"
          ]
        }
      ],
      "source": [
        "from google.colab import drive\n",
        "drive.mount('/content/drive')"
      ]
    },
    {
      "cell_type": "code",
      "execution_count": null,
      "metadata": {
        "id": "-gbXa7PPmwT8"
      },
      "outputs": [],
      "source": [
        "import pandas as pd\n",
        "import numpy as np\n",
        "import cv2\n",
        "import os\n",
        "from tensorflow.keras.utils import to_categorical\n",
        "import tensorflow as tf\n",
        "from tensorflow import keras\n",
        "from tensorflow.keras.models import Sequential\n",
        "from tensorflow.keras.layers import Dense, Dropout, Activation, Flatten\n",
        "from tensorflow.keras.layers import BatchNormalization\n",
        "from tensorflow.keras.layers import Conv2D, MaxPooling2D\n",
        "from tensorflow.keras.optimizers import SGD, RMSprop\n",
        "from tensorflow.keras.callbacks import ModelCheckpoint\n",
        "from tensorflow.keras import regularizers\n",
        "from tensorflow.keras.utils import to_categorical\n",
        "from sklearn.model_selection import train_test_split\n",
        "from keras.preprocessing.image import ImageDataGenerator\n",
        "from tensorflow.keras.applications import ResNet50\n",
        "\n",
        "import matplotlib.pyplot as plt\n",
        "\n",
        "\n",
        "image_path = \"/content/drive/MyDrive/data/training/\"\n",
        "label_path = \"/content/drive/MyDrive/data/training/label.csv\"\n",
        "\n"
      ]
    },
    {
      "cell_type": "code",
      "execution_count": null,
      "metadata": {
        "id": "gRAMLJsC9S2r"
      },
      "outputs": [],
      "source": [
        "def load_data():\n",
        "  x_train = []\n",
        "  y_train = []\n",
        "  label_df = pd.read_csv(label_path, index_col = \"filename\")\n",
        "  for p in os.listdir(image_path):\n",
        "    if p != \"label.csv\":\n",
        "      path = image_path + p\n",
        "      img = cv2.imread(path)\n",
        "      image = cv2.resize(img, (200,200), interpolation = cv2.INTER_AREA)\n",
        "      x_train.append(np.array(image))\n",
        "      y_train.append(label_df.loc[str(p),\"category\"])\n",
        "      #print(p,label_df.loc[str(p),\"category\"])\n",
        "  return x_train,y_train"
      ]
    },
    {
      "cell_type": "code",
      "execution_count": null,
      "metadata": {
        "id": "ABwpWxUx-Y7V"
      },
      "outputs": [],
      "source": [
        "def build_model():\n",
        "  model = Sequential()\n",
        "\n",
        "  model.add(ResNet50(include_top=False, weights='imagenet', pooling = 'avg', classes=219, input_shape=(200,200,3)))\n",
        "\n",
        "  #model.add(Flatten())\n",
        "  model.add(Dense(512, activation='relu'))\n",
        "  model.add(Dense(219, activation='softmax'))\n",
        "\n",
        "  model.compile(optimizer='sgd', loss='categorical_crossentropy', metrics=['accuracy'])\n",
        "\n",
        "  print(model.summary())\n",
        "\n",
        "  return model"
      ]
    },
    {
      "cell_type": "code",
      "execution_count": null,
      "metadata": {
        "id": "OGIYgOtkQPwl"
      },
      "outputs": [],
      "source": [
        "def show_train_history(train_history,train,validation): #validation\n",
        "  \n",
        "  if train == 'accuracy':\n",
        "    plt.plot(train_history.history[train])\n",
        "    plt.plot(train_history.history[validation])\n",
        "    plt.title('Train history(acc)')\n",
        "    plt.ylabel('train')\n",
        "    plt.xlabel('epoch')\n",
        "  else:\n",
        "    plt.plot(train_history.history[train])\n",
        "    plt.plot(train_history.history[validation])\n",
        "    plt.title('Train history(loss)')\n",
        "    plt.ylabel('train')\n",
        "    plt.xlabel('epoch')\n",
        "\n",
        "  plt.legend(['train','validation'],loc='upper left')\n",
        "  plt.show()"
      ]
    },
    {
      "cell_type": "code",
      "execution_count": null,
      "metadata": {
        "id": "Q56gsUQqEhBo"
      },
      "outputs": [],
      "source": [
        "if __name__ == '__main__':\n",
        "  x_train, y_train = load_data()\n",
        "  x_train = np.array(x_train).astype('float32')\n",
        "  y_train = np.array(y_train).astype('float32')\n",
        "  x_train = x_train/255.0\n",
        "  y_train = to_categorical(y_train,219)\n",
        "  \n",
        "  x_train, x_test, y_train, y_test = train_test_split(x_train, y_train, test_size = 0.2, random_state = 0, stratify = y_train)\n",
        "\n",
        "  datagen = ImageDataGenerator(\n",
        "      vertical_flip=True,\n",
        "      rotation_range = 10,\n",
        "      horizontal_flip = True,\n",
        "      zoom_range = 0.1\n",
        "  )\n",
        "  datagen.fit(x_train)\n",
        "\n",
        "  model = build_model()\n",
        "\n",
        "\n",
        "  #history = model.fit(x_train, y_train, batch_size = 32, epochs = 20, verbose = 1)\n",
        "  history = model.fit_generator(datagen.flow(x_train, y_train, batch_size = 32), validation_data = (x_test,y_test), epochs = 50 ,verbose = 1)"
      ]
    },
    {
      "cell_type": "code",
      "execution_count": null,
      "metadata": {
        "id": "N7H2kVEAQuMD"
      },
      "outputs": [],
      "source": [
        "show_train_history(history,\"accuracy\",\"val_accuracy\")\n",
        "show_train_history(history,\"loss\",\"val_loss\")"
      ]
    },
    {
      "cell_type": "code",
      "source": [
        "scores=model.evaluate(x_test,y_test)\n",
        "print()\n",
        "print('accuracy:',scores[1])"
      ],
      "metadata": {
        "id": "NBMXnOXKTVL-"
      },
      "execution_count": null,
      "outputs": []
    },
    {
      "cell_type": "code",
      "source": [
        "def plot_images_labels(images,labels,prediction,idx,num=3):\n",
        "    fig=plt.gcf()\n",
        "    fig.set_size_inches(12,14)\n",
        "    if num>25:\n",
        "        num=15\n",
        "    for i in range(0,num):\n",
        "        ax=plt.subplot(5,5,1+i)\n",
        "        ax.imshow(np.reshape(images[idx],(200,200,3)), cmap='binary')\n",
        "        title=\"label=\" +str(np.argmax(labels[idx]))\n",
        "        if len(prediction)>0:\n",
        "            title+=\",predict=\"+str(np.argmax(prediction[idx]))\n",
        "        ax.set_title(title,fontsize=10)\n",
        "        ax.set_xticks([])\n",
        "        ax.set_yticks([])\n",
        "        idx=idx+1\n",
        "    plt.show()"
      ],
      "metadata": {
        "id": "Bv9l9eChUKRH"
      },
      "execution_count": null,
      "outputs": []
    },
    {
      "cell_type": "code",
      "source": [
        "predictions = (model.predict(x_test) > 0.5).astype('int32')\n",
        "\n",
        "#print the result of predictions from test data(index = 200)\n",
        "plot_images_labels(x_test,y_test,predictions,idx=200)  "
      ],
      "metadata": {
        "id": "iFquV1ixUFnv"
      },
      "execution_count": null,
      "outputs": []
    }
  ],
  "metadata": {
    "accelerator": "GPU",
    "colab": {
      "collapsed_sections": [],
      "provenance": [],
      "authorship_tag": "ABX9TyNUdtaIqeRXCd9vK0ut/p3L",
      "include_colab_link": true
    },
    "kernelspec": {
      "display_name": "Python 3",
      "name": "python3"
    },
    "language_info": {
      "name": "python"
    }
  },
  "nbformat": 4,
  "nbformat_minor": 0
}
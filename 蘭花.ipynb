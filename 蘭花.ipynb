{
  "nbformat": 4,
  "nbformat_minor": 0,
  "metadata": {
    "colab": {
      "provenance": [],
      "collapsed_sections": [],
      "authorship_tag": "ABX9TyMyADCRhGm9y5gniB6aZSAh",
      "include_colab_link": true
    },
    "kernelspec": {
      "name": "python3",
      "display_name": "Python 3"
    },
    "language_info": {
      "name": "python"
    },
    "accelerator": "GPU"
  },
  "cells": [
    {
      "cell_type": "markdown",
      "metadata": {
        "id": "view-in-github",
        "colab_type": "text"
      },
      "source": [
        "<a href=\"https://colab.research.google.com/github/bella0826/-/blob/main/%E8%98%AD%E8%8A%B1.ipynb\" target=\"_parent\"><img src=\"https://colab.research.google.com/assets/colab-badge.svg\" alt=\"Open In Colab\"/></a>"
      ]
    },
    {
      "cell_type": "code",
      "source": [
        "from google.colab import drive\n",
        "drive.mount('/content/drive')"
      ],
      "metadata": {
        "colab": {
          "base_uri": "https://localhost:8080/"
        },
        "id": "9hbfpGua4A8S",
        "outputId": "212406d9-5753-405e-a89f-53001873c42b"
      },
      "execution_count": 35,
      "outputs": [
        {
          "output_type": "stream",
          "name": "stdout",
          "text": [
            "Drive already mounted at /content/drive; to attempt to forcibly remount, call drive.mount(\"/content/drive\", force_remount=True).\n"
          ]
        }
      ]
    },
    {
      "cell_type": "code",
      "execution_count": 36,
      "metadata": {
        "id": "-gbXa7PPmwT8"
      },
      "outputs": [],
      "source": [
        "import pandas as pd\n",
        "import numpy as np\n",
        "import cv2\n",
        "import os\n",
        "from tensorflow.keras.utils import to_categorical\n",
        "import tensorflow as tf\n",
        "from tensorflow import keras\n",
        "from tensorflow.keras.models import Sequential\n",
        "from tensorflow.keras.layers import Dense, Dropout, Activation, Flatten\n",
        "from tensorflow.keras.layers import BatchNormalization\n",
        "from tensorflow.keras.layers import Conv2D, MaxPooling2D\n",
        "from tensorflow.keras.optimizers import SGD, RMSprop\n",
        "from tensorflow.keras.callbacks import ModelCheckpoint\n",
        "from tensorflow.keras import regularizers\n",
        "from tensorflow.keras.utils import to_categorical\n",
        "from sklearn.model_selection import train_test_split\n",
        "from keras.preprocessing.image import ImageDataGenerator\n",
        "\n",
        "import matplotlib.pyplot as plt\n",
        "\n",
        "\n",
        "image_path = \"/content/drive/MyDrive/data/training/\"\n",
        "label_path = \"/content/drive/MyDrive/data/training/label.csv\""
      ]
    },
    {
      "cell_type": "code",
      "source": [
        "def load_data():\n",
        "  x_train = []\n",
        "  y_train = []\n",
        "  label_df = pd.read_csv(label_path, index_col = \"filename\")\n",
        "  for p in os.listdir(image_path):\n",
        "    if p != \"label.csv\":\n",
        "      path = image_path + p\n",
        "      img = cv2.imread(path)\n",
        "      image = cv2.resize(img, (200,200), interpolation = cv2.INTER_AREA)\n",
        "      x_train.append(np.array(image))\n",
        "      y_train.append(label_df.loc[str(p),\"category\"])\n",
        "      #print(p,label_df.loc[str(p),\"category\"])\n",
        "  return x_train,y_train"
      ],
      "metadata": {
        "id": "gRAMLJsC9S2r"
      },
      "execution_count": 37,
      "outputs": []
    },
    {
      "cell_type": "code",
      "source": [
        "def build_model():\n",
        "  model = Sequential()\n",
        "  model.add(Conv2D(32,(5,5), activation = 'relu', padding = 'same', input_shape = (200,200,3)))\n",
        "  model.add(MaxPooling2D(2, data_format = 'channels_last'))\n",
        "\n",
        "  model.add(Conv2D(64,(3,3), activation = 'relu', padding = 'same'))\n",
        "  model.add(MaxPooling2D(2, data_format = 'channels_last'))\n",
        "\n",
        "  model.add(Flatten())\n",
        "  model.add(Dense(256,activation = 'relu'))\n",
        "  model.add(Dense(219,activation = 'softmax'))\n",
        "\n",
        "  model.compile(loss='categorical_crossentropy', optimizer='adam', metrics = ['accuracy'])\n",
        "\n",
        "  print(model.summary())\n",
        "\n",
        "  return model"
      ],
      "metadata": {
        "id": "ABwpWxUx-Y7V"
      },
      "execution_count": 38,
      "outputs": []
    },
    {
      "cell_type": "code",
      "source": [
        "def show_train_history(train_history,train): #validation\n",
        "  \n",
        "  if train == 'accuracy':\n",
        "    plt.plot(train_history.history[train])\n",
        "    #plt.plot(train_history.history[validation])\n",
        "    plt.title('Train history(acc)')\n",
        "    plt.ylabel('train')\n",
        "    plt.xlabel('epoch')\n",
        "  else:\n",
        "    plt.plot(train_history.history[train])\n",
        "    #plt.plot(train_history.history[validation])\n",
        "    plt.title('Train history(loss)')\n",
        "    plt.ylabel('train')\n",
        "    plt.xlabel('epoch')\n",
        "\n",
        "  plt.legend(['train','validation'],loc='upper left')\n",
        "  plt.show()"
      ],
      "metadata": {
        "id": "OGIYgOtkQPwl"
      },
      "execution_count": 39,
      "outputs": []
    },
    {
      "cell_type": "code",
      "source": [
        "if __name__ == '__main__':\n",
        "  x_train, y_train = load_data()\n",
        "  x_train = np.array(x_train).astype('float32')\n",
        "  y_train = np.array(y_train).astype('float32')\n",
        "  x_train = x_train/255.0\n",
        "  y_train = to_categorical(y_train,219)\n",
        "\n",
        "  \n",
        "  model = build_model()\n",
        "\n",
        "\n",
        "  history = model.fit(x_train, y_train, batch_size = 32, epochs = 10, verbose = 1)\n",
        "  #history = model.fit_generator(datagen.flow(x_train, y_train, batch_size = 32), validation_data = (x_test,y_test), epochs = 10 ,verbose = 1)"
      ],
      "metadata": {
        "id": "Q56gsUQqEhBo",
        "colab": {
          "base_uri": "https://localhost:8080/"
        },
        "outputId": "9bc9650c-1fdb-45c3-9101-19df8d65ced0"
      },
      "execution_count": 40,
      "outputs": [
        {
          "output_type": "stream",
          "name": "stdout",
          "text": [
            "Model: \"sequential_5\"\n",
            "_________________________________________________________________\n",
            " Layer (type)                Output Shape              Param #   \n",
            "=================================================================\n",
            " conv2d_5 (Conv2D)           (None, 200, 200, 32)      2432      \n",
            "                                                                 \n",
            " max_pooling2d_5 (MaxPooling  (None, 100, 100, 32)     0         \n",
            " 2D)                                                             \n",
            "                                                                 \n",
            " conv2d_6 (Conv2D)           (None, 100, 100, 64)      18496     \n",
            "                                                                 \n",
            " max_pooling2d_6 (MaxPooling  (None, 50, 50, 64)       0         \n",
            " 2D)                                                             \n",
            "                                                                 \n",
            " flatten_5 (Flatten)         (None, 160000)            0         \n",
            "                                                                 \n",
            " dense_10 (Dense)            (None, 256)               40960256  \n",
            "                                                                 \n",
            " dense_11 (Dense)            (None, 219)               56283     \n",
            "                                                                 \n",
            "=================================================================\n",
            "Total params: 41,037,467\n",
            "Trainable params: 41,037,467\n",
            "Non-trainable params: 0\n",
            "_________________________________________________________________\n",
            "None\n",
            "Epoch 1/10\n",
            "69/69 [==============================] - 4s 52ms/step - loss: 5.7690 - accuracy: 0.0027\n",
            "Epoch 2/10\n",
            "69/69 [==============================] - 3s 49ms/step - loss: 5.1236 - accuracy: 0.0137\n",
            "Epoch 3/10\n",
            "69/69 [==============================] - 3s 50ms/step - loss: 4.4261 - accuracy: 0.0936\n",
            "Epoch 4/10\n",
            "69/69 [==============================] - 3s 50ms/step - loss: 1.9838 - accuracy: 0.5566\n",
            "Epoch 5/10\n",
            "69/69 [==============================] - 3s 51ms/step - loss: 0.2605 - accuracy: 0.9420\n",
            "Epoch 6/10\n",
            "69/69 [==============================] - 3s 50ms/step - loss: 0.0324 - accuracy: 0.9950\n",
            "Epoch 7/10\n",
            "69/69 [==============================] - 4s 51ms/step - loss: 0.0076 - accuracy: 0.9991\n",
            "Epoch 8/10\n",
            "69/69 [==============================] - 3s 50ms/step - loss: 8.9532e-04 - accuracy: 1.0000\n",
            "Epoch 9/10\n",
            "69/69 [==============================] - 3s 51ms/step - loss: 2.7752e-04 - accuracy: 1.0000\n",
            "Epoch 10/10\n",
            "69/69 [==============================] - 3s 50ms/step - loss: 1.4501e-04 - accuracy: 1.0000\n"
          ]
        }
      ]
    },
    {
      "cell_type": "code",
      "source": [
        "show_train_history(history,\"accuracy\")\n",
        "show_train_history(history,\"loss\")"
      ],
      "metadata": {
        "id": "N7H2kVEAQuMD",
        "colab": {
          "base_uri": "https://localhost:8080/",
          "height": 573
        },
        "outputId": "bc6530cc-bdb9-4f46-82d8-3c6511570bae"
      },
      "execution_count": 41,
      "outputs": [
        {
          "output_type": "display_data",
          "data": {
            "text/plain": [
              "<Figure size 432x288 with 1 Axes>"
            ],
            "image/png": "[encoded data removed]"
          },
          "metadata": {
            "needs_background": "light"
          }
        },
        {
          "output_type": "display_data",
          "data": {
            "text/plain": [
              "<Figure size 432x288 with 1 Axes>"
            ],
            "image/png": "[encoded data removed]"
          },
          "metadata": {
            "needs_background": "light"
          }
        }
      ]
    }
  ]
}